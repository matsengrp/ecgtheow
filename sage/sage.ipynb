{
 "cells": [
  {
   "cell_type": "code",
   "execution_count": null,
   "metadata": {
    "collapsed": true
   },
   "outputs": [],
   "source": [
    "class MutRecord:\n",
    "    def __init__(self, id, muts):\n",
    "        self.id = id\n",
    "        self.muts = Set(muts)\n",
    "\n",
    "    @classmethod\n",
    "    def of_string(cls, in_str):\n",
    "        new_id, new_mut_str = in_str.split(',')\n",
    "        return cls(new_id, new_mut_str.split())\n",
    "\n",
    "    def __repr__(self):\n",
    "        return \"{}: {}\".format(self.id, \" \".join(self.muts))\n",
    "\n",
    "    def __str__(self):\n",
    "        return self.id\n",
    "    \n",
    "    def issubset(self, other):\n",
    "        return self.muts.issubset(other.muts)\n",
    "    \n",
    "    def frequency(self):\n",
    "        # TODO this whole notation needs work\n",
    "        if '_' in self.id:\n",
    "            return int(self.id.split(\"_\")[-1])\n",
    "        return 1000000000000000000  # TODO: haha"
   ]
  },
  {
   "cell_type": "code",
   "execution_count": null,
   "metadata": {
    "collapsed": false
   },
   "outputs": [],
   "source": [
    "X = MutRecord.of_string(\"inferred_26_1,Y32N S55N G57D T107P\")\n",
    "Y = MutRecord.of_string(\"inferred_27_1,Y32N M34I G57D T107S F114L\")\n",
    "Y.frequency()\n",
    "\n",
    "#X.issubset(Y)"
   ]
  },
  {
   "cell_type": "code",
   "execution_count": null,
   "metadata": {
    "collapsed": false
   },
   "outputs": [],
   "source": [
    "with open('mb/beast/BF520.1-h-IgH.family_0.healthy.tre.seedpruned.100.ids.aa_lineage.muts.csv') as f:\n",
    "    mut_records = [MutRecord.of_string(line.rstrip()) for line in f]"
   ]
  },
  {
   "cell_type": "code",
   "execution_count": null,
   "metadata": {
    "collapsed": false
   },
   "outputs": [],
   "source": [
    "seed = mut_records[0]"
   ]
  },
  {
   "cell_type": "code",
   "execution_count": null,
   "metadata": {
    "collapsed": false
   },
   "outputs": [],
   "source": [
    "p = Poset((\n",
    "        filter(lambda r: r.frequency() > 100, # and r.issubset(seed), \n",
    "               mut_records), \n",
    "        lambda p, q: p.issubset(q)))\n",
    "p.maximal_elements()"
   ]
  },
  {
   "cell_type": "code",
   "execution_count": null,
   "metadata": {
    "collapsed": false
   },
   "outputs": [],
   "source": [
    "p.plot(cover_labels = lambda a, b: b.muts - a.muts)"
   ]
  },
  {
   "cell_type": "code",
   "execution_count": null,
   "metadata": {
    "collapsed": true
   },
   "outputs": [],
   "source": []
  }
 ],
 "metadata": {
  "kernelspec": {
   "display_name": "SageMath 7.5.1",
   "language": "",
   "name": "sagemath"
  },
  "language_info": {
   "codemirror_mode": {
    "name": "ipython",
    "version": 2
   },
   "file_extension": ".py",
   "mimetype": "text/x-python",
   "name": "python",
   "nbconvert_exporter": "python",
   "pygments_lexer": "ipython2",
   "version": "2.7.13"
  }
 },
 "nbformat": 4,
 "nbformat_minor": 0
}
